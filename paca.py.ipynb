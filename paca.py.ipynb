{
 "cells": [
  {
   "cell_type": "code",
   "execution_count": null,
   "metadata": {
    "_cell_guid": "b1076dfc-b9ad-4769-8c92-a6c4dae69d19",
    "_uuid": "8f2839f25d086af736a60e9eeb907d3b93b6e0e5",
    "trusted": true
   },
   "outputs": [],
   "source": [
    "# This Python 3 environment comes with many helpful analytics libraries installed\n",
    "# It is defined by the kaggle/python Docker image: https://github.com/kaggle/docker-python\n",
    "# For example, here's several helpful packages to load\n",
    "\n",
    "import numpy as np # linear algebra\n",
    "import pandas as pd # data processing, CSV file I/O (e.g. pd.read_csv)\n",
    "\n",
    "# Input data files are available in the read-only \"../input/\" directory\n",
    "# For example, running this (by clicking run or pressing Shift+Enter) will list all files under the input directory\n",
    "\n",
    "import os\n",
    "for dirname, _, filenames in os.walk('/kaggle/input'):\n",
    "    for filename in filenames:\n",
    "        print(os.path.join(dirname, filename))\n",
    "\n",
    "# You can write up to 20GB to the current directory (/kaggle/working/) that gets preserved as output when you create a version using \"Save & Run All\" \n",
    "# You can also write temporary files to /kaggle/temp/, but they won't be saved outside of the current session"
   ]
  },
  {
   "cell_type": "code",
   "execution_count": 1,
   "metadata": {
    "execution": {
     "iopub.execute_input": "2025-04-21T13:38:06.088496Z",
     "iopub.status.busy": "2025-04-21T13:38:06.088192Z",
     "iopub.status.idle": "2025-04-21T13:38:51.147878Z",
     "shell.execute_reply": "2025-04-21T13:38:51.146580Z",
     "shell.execute_reply.started": "2025-04-21T13:38:06.088467Z"
    },
    "trusted": true
   },
   "outputs": [
    {
     "name": "stdout",
     "output_type": "stream",
     "text": [
      "                        user_id        asin                timestamp\n",
      "0  AGGZ357AO26RQZVRLGU4D4N52DZQ  B013488XFS  2015-08-24 03:07:17.000\n",
      "1  AGKASBHYZPGTEPO6LWZPVJWB2BVA  B00CB6VTDS  2016-04-19 21:16:50.000\n",
      "2  AG2L7H23R5LLKDKLBEF2Q3L2MVDA  B096Z8Z3R6  2022-03-03 01:43:54.582\n",
      "3  AG2L7H23R5LLKDKLBEF2Q3L2MVDA  B09M14D9FZ  2022-02-27 04:56:01.864\n",
      "4  AG2L7H23R5LLKDKLBEF2Q3L2MVDA  B001H1SVZC  2020-05-28 04:13:47.074\n",
      "Index(['user_id', 'asin', 'timestamp'], dtype='object')\n"
     ]
    }
   ],
   "source": [
    "import pandas as pd\n",
    "\n",
    "# Load the data\n",
    "df = pd.read_csv(\"/kaggle/input/moviesandtv-csv/Movies_and_TV.csv\")\n",
    "\n",
    "# Show basic info\n",
    "print(df.head())\n",
    "print(df.columns)\n",
    "\n"
   ]
  },
  {
   "cell_type": "code",
   "execution_count": 3,
   "metadata": {
    "execution": {
     "iopub.execute_input": "2025-04-21T13:39:31.792835Z",
     "iopub.status.busy": "2025-04-21T13:39:31.792504Z",
     "iopub.status.idle": "2025-04-21T13:41:14.711052Z",
     "shell.execute_reply": "2025-04-21T13:41:14.709571Z",
     "shell.execute_reply.started": "2025-04-21T13:39:31.792812Z"
    },
    "trusted": true
   },
   "outputs": [
    {
     "name": "stdout",
     "output_type": "stream",
     "text": [
      "                              user_id        asin               timestamp  \\\n",
      "2791445  AE2222FRPDMNOMYOMCWIANTXP7UQ  B0091X4AP8 2015-06-11 00:16:50.000   \n",
      "2791444  AE2222FRPDMNOMYOMCWIANTXP7UQ  B0094K20FK 2015-07-30 19:21:12.000   \n",
      "2791443  AE2222FRPDMNOMYOMCWIANTXP7UQ  B00BEIYHT2 2016-07-14 20:18:56.000   \n",
      "2791442  AE2222FRPDMNOMYOMCWIANTXP7UQ  B01CRFKWXK 2016-08-27 13:55:47.000   \n",
      "2791441  AE2222FRPDMNOMYOMCWIANTXP7UQ  B017S3OP7A 2020-07-29 17:08:21.146   \n",
      "\n",
      "         user    item  \n",
      "2791445     0  338085  \n",
      "2791444     0  339215  \n",
      "2791443     0  366482  \n",
      "2791442     0  508873  \n",
      "2791441     0  492965  \n",
      "Total unique users: 6503429, items: 747910\n"
     ]
    }
   ],
   "source": [
    "from sklearn.preprocessing import LabelEncoder\n",
    "\n",
    "# Encode user_id and asin\n",
    "user_encoder = LabelEncoder()\n",
    "item_encoder = LabelEncoder()\n",
    "\n",
    "df['user'] = user_encoder.fit_transform(df['user_id'])\n",
    "df['item'] = item_encoder.fit_transform(df['asin'])\n",
    "\n",
    "# Convert timestamp to datetime and sort\n",
    "df['timestamp'] = pd.to_datetime(df['timestamp'])\n",
    "df = df.sort_values(['user', 'timestamp'])\n",
    "\n",
    "# Show a sample\n",
    "print(df.head())\n",
    "print(f\"Total unique users: {df['user'].nunique()}, items: {df['item'].nunique()}\")\n"
   ]
  },
  {
   "cell_type": "code",
   "execution_count": 4,
   "metadata": {
    "execution": {
     "iopub.execute_input": "2025-04-21T13:41:30.618010Z",
     "iopub.status.busy": "2025-04-21T13:41:30.617294Z",
     "iopub.status.idle": "2025-04-21T13:41:31.949355Z",
     "shell.execute_reply": "2025-04-21T13:41:31.948295Z",
     "shell.execute_reply.started": "2025-04-21T13:41:30.617976Z"
    },
    "trusted": true
   },
   "outputs": [
    {
     "name": "stdout",
     "output_type": "stream",
     "text": [
      "user\n",
      "5134                                              [311921]\n",
      "12816                                             [411125]\n",
      "16918                                               [3205]\n",
      "23162                                     [361440, 228503]\n",
      "24922    [270031, 317802, 373980, 318389, 233096, 27781...\n",
      "Name: item, dtype: object\n"
     ]
    }
   ],
   "source": [
    "import numpy as np\n",
    "\n",
    "# Set seed for reproducibility\n",
    "np.random.seed(42)\n",
    "\n",
    "# Sample 1000 users\n",
    "unique_users = df['user'].unique()\n",
    "sample_users = np.random.choice(unique_users, size=1000, replace=False)\n",
    "\n",
    "# Filter the dataframe for those users only\n",
    "df_sample = df[df['user'].isin(sample_users)]\n",
    "\n",
    "# Group interactions into item sequences\n",
    "user_interactions = df_sample.groupby('user')['item'].apply(list)\n",
    "\n",
    "# Check an example\n",
    "print(user_interactions.head())\n"
   ]
  },
  {
   "cell_type": "code",
   "execution_count": 5,
   "metadata": {
    "execution": {
     "iopub.execute_input": "2025-04-21T13:41:42.888135Z",
     "iopub.status.busy": "2025-04-21T13:41:42.887809Z",
     "iopub.status.idle": "2025-04-21T13:41:43.278910Z",
     "shell.execute_reply": "2025-04-21T13:41:43.277983Z",
     "shell.execute_reply.started": "2025-04-21T13:41:42.888110Z"
    },
    "trusted": true
   },
   "outputs": [
    {
     "name": "stderr",
     "output_type": "stream",
     "text": [
      "1000it [00:00, 198106.18it/s]"
     ]
    },
    {
     "name": "stdout",
     "output_type": "stream",
     "text": [
      "✅ Done! Total training samples: 1588\n"
     ]
    },
    {
     "name": "stderr",
     "output_type": "stream",
     "text": [
      "\n"
     ]
    }
   ],
   "source": [
    "from tqdm import tqdm\n",
    "\n",
    "sequence_length = 5\n",
    "X_seq, X_target, y = [], [], []\n",
    "\n",
    "num_items = df['item'].nunique()  # total items in full dataset\n",
    "\n",
    "for user, items in tqdm(user_interactions.items()):\n",
    "    if len(items) <= sequence_length:\n",
    "        continue\n",
    "    for i in range(sequence_length, len(items)):\n",
    "        hist = items[i-sequence_length:i]\n",
    "        pos_item = items[i]\n",
    "        # Positive sample\n",
    "        X_seq.append(hist)\n",
    "        X_target.append(pos_item)\n",
    "        y.append(1)\n",
    "        # Negative sample\n",
    "        while True:\n",
    "            neg_item = np.random.randint(num_items)\n",
    "            if neg_item not in items:\n",
    "                break\n",
    "        X_seq.append(hist)\n",
    "        X_target.append(neg_item)\n",
    "        y.append(0)\n",
    "\n",
    "print(f\"✅ Done! Total training samples: {len(y)}\")\n"
   ]
  },
  {
   "cell_type": "code",
   "execution_count": 6,
   "metadata": {
    "execution": {
     "iopub.execute_input": "2025-04-21T13:41:55.062936Z",
     "iopub.status.busy": "2025-04-21T13:41:55.062600Z",
     "iopub.status.idle": "2025-04-21T13:42:00.466461Z",
     "shell.execute_reply": "2025-04-21T13:42:00.465406Z",
     "shell.execute_reply.started": "2025-04-21T13:41:55.062912Z"
    },
    "trusted": true
   },
   "outputs": [
    {
     "name": "stdout",
     "output_type": "stream",
     "text": [
      "Sequence shape: torch.Size([64, 5])\n",
      "Target shape: torch.Size([64])\n",
      "Label shape: torch.Size([64])\n"
     ]
    }
   ],
   "source": [
    "import torch\n",
    "from torch.utils.data import Dataset, DataLoader\n",
    "\n",
    "class PACADataset(Dataset):\n",
    "    def __init__(self, sequences, targets, labels):\n",
    "        self.sequences = sequences\n",
    "        self.targets = targets\n",
    "        self.labels = labels\n",
    "\n",
    "    def __len__(self):\n",
    "        return len(self.labels)\n",
    "\n",
    "    def __getitem__(self, idx):\n",
    "        return (\n",
    "            torch.tensor(self.sequences[idx], dtype=torch.long),  # sequence\n",
    "            torch.tensor(self.targets[idx], dtype=torch.long),    # target item\n",
    "            torch.tensor(self.labels[idx], dtype=torch.float32)   # label\n",
    "        )\n",
    "\n",
    "# Create dataset and dataloader\n",
    "dataset = PACADataset(X_seq, X_target, y)\n",
    "dataloader = DataLoader(dataset, batch_size=64, shuffle=True)\n",
    "\n",
    "# Check one batch\n",
    "for batch in dataloader:\n",
    "    seq_batch, target_batch, label_batch = batch\n",
    "    print(\"Sequence shape:\", seq_batch.shape)\n",
    "    print(\"Target shape:\", target_batch.shape)\n",
    "    print(\"Label shape:\", label_batch.shape)\n",
    "    break\n",
    "\n"
   ]
  },
  {
   "cell_type": "code",
   "execution_count": 7,
   "metadata": {
    "execution": {
     "iopub.execute_input": "2025-04-21T13:42:12.868600Z",
     "iopub.status.busy": "2025-04-21T13:42:12.868120Z",
     "iopub.status.idle": "2025-04-21T13:42:12.877916Z",
     "shell.execute_reply": "2025-04-21T13:42:12.876599Z",
     "shell.execute_reply.started": "2025-04-21T13:42:12.868574Z"
    },
    "trusted": true
   },
   "outputs": [],
   "source": [
    "import torch.nn as nn\n",
    "import torch.nn.functional as F\n",
    "\n",
    "class PACA(nn.Module):\n",
    "    def __init__(self, num_items, embed_dim=64, sequence_length=5):\n",
    "        super(PACA, self).__init__()\n",
    "        self.item_embedding = nn.Embedding(num_items, embed_dim)\n",
    "        self.position_embedding = nn.Embedding(sequence_length, embed_dim)\n",
    "\n",
    "        self.conv = nn.Conv1d(embed_dim, embed_dim, kernel_size=3, padding=1)\n",
    "\n",
    "        self.attention = nn.Linear(embed_dim * 2, 1)  # concat(item + pos)\n",
    "        self.output = nn.Linear(embed_dim, 1)  # final scoring with target\n",
    "\n",
    "    def forward(self, seq, target):\n",
    "        # Embedding lookup\n",
    "        seq_emb = self.item_embedding(seq)  # [B, L, D]\n",
    "        pos_ids = torch.arange(seq.shape[1], device=seq.device).unsqueeze(0)\n",
    "        pos_emb = self.position_embedding(pos_ids)  # [1, L, D]\n",
    "\n",
    "        # Add position embedding\n",
    "        x = seq_emb + pos_emb  # [B, L, D]\n",
    "        x = x.permute(0, 2, 1)  # [B, D, L] for conv\n",
    "        x = self.conv(x)  # [B, D, L]\n",
    "        x = x.permute(0, 2, 1)  # [B, L, D]\n",
    "\n",
    "        # Attention over positions\n",
    "        concat = torch.cat([x, pos_emb.expand_as(x)], dim=-1)  # [B, L, 2D]\n",
    "        attn_weights = self.attention(concat).squeeze(-1)  # [B, L]\n",
    "        attn_weights = F.softmax(attn_weights, dim=-1)\n",
    "\n",
    "        # Weighted sum\n",
    "        context = torch.sum(attn_weights.unsqueeze(-1) * x, dim=1)  # [B, D]\n",
    "\n",
    "        # Target embedding\n",
    "        target_emb = self.item_embedding(target)  # [B, D]\n",
    "\n",
    "        # Final score (dot product)\n",
    "        scores = torch.sum(context * target_emb, dim=-1)  # [B]\n",
    "        return scores\n"
   ]
  },
  {
   "cell_type": "code",
   "execution_count": 8,
   "metadata": {
    "execution": {
     "iopub.execute_input": "2025-04-21T13:42:36.462488Z",
     "iopub.status.busy": "2025-04-21T13:42:36.462129Z",
     "iopub.status.idle": "2025-04-21T13:44:11.349898Z",
     "shell.execute_reply": "2025-04-21T13:44:11.348934Z",
     "shell.execute_reply.started": "2025-04-21T13:42:36.462462Z"
    },
    "trusted": true
   },
   "outputs": [
    {
     "name": "stdout",
     "output_type": "stream",
     "text": [
      "Epoch 1: Loss = 28.9409, AUC = 0.5159\n",
      "Epoch 2: Loss = 17.7997, AUC = 0.7088\n",
      "Epoch 3: Loss = 12.2792, AUC = 0.8449\n",
      "Epoch 4: Loss = 8.6115, AUC = 0.9392\n",
      "Epoch 5: Loss = 6.2495, AUC = 0.9803\n"
     ]
    }
   ],
   "source": [
    "from sklearn.metrics import roc_auc_score\n",
    "\n",
    "device = torch.device(\"cuda\" if torch.cuda.is_available() else \"cpu\")\n",
    "\n",
    "# Initialize the model\n",
    "model = PACA(num_items=num_items, embed_dim=64, sequence_length=5).to(device)\n",
    "optimizer = torch.optim.Adam(model.parameters(), lr=0.001)\n",
    "loss_fn = nn.BCEWithLogitsLoss()\n",
    "\n",
    "# Training loop\n",
    "def train(model, dataloader, epochs=5):\n",
    "    model.train()\n",
    "    for epoch in range(epochs):\n",
    "        total_loss = 0\n",
    "        all_labels, all_preds = [], []\n",
    "\n",
    "        for seq, target, label in dataloader:\n",
    "            seq, target, label = seq.to(device), target.to(device), label.to(device)\n",
    "\n",
    "            optimizer.zero_grad()\n",
    "            logits = model(seq, target)\n",
    "            loss = loss_fn(logits, label)\n",
    "            loss.backward()\n",
    "            optimizer.step()\n",
    "\n",
    "            total_loss += loss.item()\n",
    "            all_labels.extend(label.cpu().numpy())\n",
    "            all_preds.extend(torch.sigmoid(logits).detach().cpu().numpy())\n",
    "\n",
    "        auc = roc_auc_score(all_labels, all_preds)\n",
    "        print(f\"Epoch {epoch+1}: Loss = {total_loss:.4f}, AUC = {auc:.4f}\")\n",
    "\n",
    "# Train the model\n",
    "train(model, dataloader, epochs=5)\n"
   ]
  },
  {
   "cell_type": "code",
   "execution_count": 10,
   "metadata": {
    "execution": {
     "iopub.execute_input": "2025-04-21T14:01:54.245896Z",
     "iopub.status.busy": "2025-04-21T14:01:54.244560Z",
     "iopub.status.idle": "2025-04-21T14:01:54.344748Z",
     "shell.execute_reply": "2025-04-21T14:01:54.343391Z",
     "shell.execute_reply.started": "2025-04-21T14:01:54.245858Z"
    },
    "trusted": true
   },
   "outputs": [
    {
     "name": "stdout",
     "output_type": "stream",
     "text": [
      "Predictions: [-2.28477   -3.0530643 -1.7637105  2.6993153 -4.684033 ]\n"
     ]
    }
   ],
   "source": [
    "# Put model in evaluation mode\n",
    "model.eval()\n",
    "\n",
    "# Prepare data for predictions (for simplicity, we'll use the same dataset here)\n",
    "predictions = []\n",
    "true_labels = []\n",
    "\n",
    "# Loop through the DataLoader\n",
    "for batch in dataloader:\n",
    "    seq_batch, target_batch, label_batch = batch\n",
    "\n",
    "    # Forward pass to get model scores\n",
    "    scores = model(seq_batch, target_batch)\n",
    "    predictions.extend(scores.detach().cpu().numpy())\n",
    "    true_labels.extend(label_batch.cpu().numpy())\n",
    "\n",
    "# Convert predictions and true_labels to numpy arrays\n",
    "predictions = np.array(predictions)\n",
    "true_labels = np.array(true_labels)\n",
    "\n",
    "print(f\"Predictions: {predictions[:5]}\")  # Display a small sample\n"
   ]
  },
  {
   "cell_type": "code",
   "execution_count": 11,
   "metadata": {
    "execution": {
     "iopub.execute_input": "2025-04-21T14:02:34.619663Z",
     "iopub.status.busy": "2025-04-21T14:02:34.619208Z",
     "iopub.status.idle": "2025-04-21T14:02:34.923696Z",
     "shell.execute_reply": "2025-04-21T14:02:34.922408Z",
     "shell.execute_reply.started": "2025-04-21T14:02:34.619638Z"
    },
    "trusted": true
   },
   "outputs": [
    {
     "data": {
      "image/png": "[encoded data removed]",
      "text/plain": [
       "<Figure size 800x600 with 1 Axes>"
      ]
     },
     "metadata": {},
     "output_type": "display_data"
    }
   ],
   "source": [
    "import matplotlib.pyplot as plt\n",
    "import seaborn as sns\n",
    "import pandas as pd\n",
    "\n",
    "# Create a DataFrame for easier plotting\n",
    "df_predictions = pd.DataFrame({'Prediction': predictions, 'True Label': true_labels})\n",
    "\n",
    "# Create the boxplot\n",
    "plt.figure(figsize=(8, 6))\n",
    "sns.boxplot(x='True Label', y='Prediction', data=df_predictions)\n",
    "plt.title('Boxplot of Model Predictions by True Label')\n",
    "plt.xlabel('True Label (0 = Negative, 1 = Positive)')\n",
    "plt.ylabel('Prediction Score')\n",
    "plt.show()\n"
   ]
  },
  {
   "cell_type": "code",
   "execution_count": 12,
   "metadata": {
    "execution": {
     "iopub.execute_input": "2025-04-21T14:05:35.470083Z",
     "iopub.status.busy": "2025-04-21T14:05:35.469699Z",
     "iopub.status.idle": "2025-04-21T14:05:35.680625Z",
     "shell.execute_reply": "2025-04-21T14:05:35.679294Z",
     "shell.execute_reply.started": "2025-04-21T14:05:35.470057Z"
    },
    "trusted": true
   },
   "outputs": [],
   "source": [
    "# Save the boxplot as an image\n",
    "plt.figure(figsize=(8, 6))\n",
    "sns.boxplot(x='True Label', y='Prediction', data=df_predictions)\n",
    "plt.title('Boxplot of Model Predictions by True Label')\n",
    "plt.xlabel('True Label (0 = Negative, 1 = Positive)')\n",
    "plt.ylabel('Prediction Score')\n",
    "\n",
    "# Save the plot to the working directory\n",
    "plt.savefig('/kaggle/working/model_predictions_boxplot.png', bbox_inches='tight')\n",
    "\n",
    "plt.close()  # Close the plot to free memory\n"
   ]
  },
  {
   "cell_type": "code",
   "execution_count": 13,
   "metadata": {
    "execution": {
     "iopub.execute_input": "2025-04-21T14:08:37.600904Z",
     "iopub.status.busy": "2025-04-21T14:08:37.600507Z",
     "iopub.status.idle": "2025-04-21T14:08:37.607083Z",
     "shell.execute_reply": "2025-04-21T14:08:37.606146Z",
     "shell.execute_reply.started": "2025-04-21T14:08:37.600878Z"
    },
    "trusted": true
   },
   "outputs": [
    {
     "name": "stdout",
     "output_type": "stream",
     "text": [
      "[0 0 0 1 0]\n"
     ]
    }
   ],
   "source": [
    "# Convert the predicted scores to binary labels (1 if score > 0, else 0)\n",
    "predicted_labels = (predictions > 0).astype(int)\n",
    "\n",
    "# Print a sample to check\n",
    "print(predicted_labels[:5])  # Display the first 5 predicted labels\n"
   ]
  },
  {
   "cell_type": "code",
   "execution_count": 14,
   "metadata": {
    "execution": {
     "iopub.execute_input": "2025-04-21T14:09:41.934309Z",
     "iopub.status.busy": "2025-04-21T14:09:41.933971Z",
     "iopub.status.idle": "2025-04-21T14:09:41.949382Z",
     "shell.execute_reply": "2025-04-21T14:09:41.948488Z",
     "shell.execute_reply.started": "2025-04-21T14:09:41.934282Z"
    },
    "trusted": true
   },
   "outputs": [
    {
     "name": "stdout",
     "output_type": "stream",
     "text": [
      "Confusion Matrix:\n",
      "[[778  16]\n",
      " [ 17 777]]\n"
     ]
    }
   ],
   "source": [
    "from sklearn.metrics import confusion_matrix\n",
    "\n",
    "# Calculate the confusion matrix\n",
    "cm = confusion_matrix(true_labels, predicted_labels)\n",
    "\n",
    "print(\"Confusion Matrix:\")\n",
    "print(cm)\n"
   ]
  },
  {
   "cell_type": "code",
   "execution_count": null,
   "metadata": {
    "execution": {
     "iopub.execute_input": "2025-04-21T14:10:01.289106Z",
     "iopub.status.busy": "2025-04-21T14:10:01.288767Z",
     "iopub.status.idle": "2025-04-21T14:10:01.509663Z",
     "shell.execute_reply": "2025-04-21T14:10:01.508582Z",
     "shell.execute_reply.started": "2025-04-21T14:10:01.289081Z"
    },
    "trusted": true
   },
   "outputs": [
    {
     "data": {
      "image/png": "[encoded data removed]",
      "text/plain": [
       "<Figure size 600x500 with 2 Axes>"
      ]
     },
     "metadata": {},
     "output_type": "display_data"
    }
   ],
   "source": [
    "import seaborn as sns\n",
    "import matplotlib.pyplot as plt\n",
    "\n",
    "# Plot confusion matrix using a heatmap\n",
    "plt.figure(figsize=(6, 5))\n",
    "sns.heatmap(cm, annot=True, fmt='d', cmap='Blues', \n",
    "    xticklabels=['Pred: Negative', 'Pred: Positive'], \n",
    "    yticklabels=['True: Negative', 'True: Positive'])\n",
    "plt.title('Confusion Matrix')\n",
    "plt.xlabel('Predicted')\n",
    "plt.ylabel('True')\n",
    "plt.show()\n"
   ]
  },
  {
   "cell_type": "code",
   "execution_count": 16,
   "metadata": {
    "execution": {
     "iopub.execute_input": "2025-04-21T14:10:41.893769Z",
     "iopub.status.busy": "2025-04-21T14:10:41.893450Z",
     "iopub.status.idle": "2025-04-21T14:10:42.133908Z",
     "shell.execute_reply": "2025-04-21T14:10:42.132947Z",
     "shell.execute_reply.started": "2025-04-21T14:10:41.893742Z"
    },
    "trusted": true
   },
   "outputs": [],
   "source": [
    "# Plot confusion matrix using a heatmap\n",
    "plt.figure(figsize=(6, 5))\n",
    "sns.heatmap(cm, annot=True, fmt='d', cmap='Blues', xticklabels=['Pred: Negative', 'Pred: Positive'], yticklabels=['True: Negative', 'True: Positive'])\n",
    "plt.title('Confusion Matrix')\n",
    "plt.xlabel('Predicted')\n",
    "plt.ylabel('True')\n",
    "\n",
    "# Save the plot to the working directory in Kaggle\n",
    "plt.savefig('/kaggle/working/confusion_matrix.png', bbox_inches='tight')\n",
    "\n",
    "# Close the plot to free memory\n",
    "plt.close()\n"
   ]
  },
  {
   "cell_type": "code",
   "execution_count": 18,
   "metadata": {
    "execution": {
     "iopub.execute_input": "2025-04-21T14:14:23.289236Z",
     "iopub.status.busy": "2025-04-21T14:14:23.288896Z",
     "iopub.status.idle": "2025-04-21T14:14:23.356557Z",
     "shell.execute_reply": "2025-04-21T14:14:23.355517Z",
     "shell.execute_reply.started": "2025-04-21T14:14:23.289213Z"
    },
    "trusted": true
   },
   "outputs": [],
   "source": [
    "# Assuming the sequence length is always 5\n",
    "seq_length = 5\n",
    "\n",
    "for user, items in user_interactions.items():\n",
    "    # Generate scores for each item for the current user\n",
    "    if len(items) < seq_length:\n",
    "        continue  # Skip if there aren't enough items to form a sequence\n",
    "    \n",
    "    seq = torch.tensor([items[:seq_length]], dtype=torch.long)\n",
    "    target = torch.tensor(items[:seq_length], dtype=torch.long)\n",
    "\n",
    "    # Create position IDs (it should match the sequence length)\n",
    "    pos_ids = torch.arange(len(seq[0]), device=seq.device).unsqueeze(0)\n",
    "\n",
    "    # Get predictions from the model\n",
    "    with torch.no_grad():\n",
    "        scores = model(seq, target)  # Get the predicted scores for the sequence\n",
    "\n",
    "    # Store predictions\n",
    "    user_item_scores[user] = dict(zip(items, scores.detach().numpy()))  # Store predictions for each item\n"
   ]
  },
  {
   "cell_type": "code",
   "execution_count": 19,
   "metadata": {
    "execution": {
     "iopub.execute_input": "2025-04-21T14:14:44.409362Z",
     "iopub.status.busy": "2025-04-21T14:14:44.408983Z",
     "iopub.status.idle": "2025-04-21T14:14:44.419087Z",
     "shell.execute_reply": "2025-04-21T14:14:44.417879Z",
     "shell.execute_reply.started": "2025-04-21T14:14:44.409319Z"
    },
    "trusted": true
   },
   "outputs": [
    {
     "name": "stdout",
     "output_type": "stream",
     "text": [
      "Precision@5: 0.9590\n",
      "Recall@5: 0.6694\n"
     ]
    }
   ],
   "source": [
    "def calculate_precision_recall_at_k(user_item_scores, user_interactions, k=5):\n",
    "    precision_at_k = []\n",
    "    recall_at_k = []\n",
    "\n",
    "    for user, predicted_scores in user_item_scores.items():\n",
    "        # Get the actual items the user interacted with\n",
    "        actual_items = set(user_interactions[user])\n",
    "\n",
    "        # Sort the predicted items by score in descending order and get the top-k items\n",
    "        top_k_items = sorted(predicted_scores, key=predicted_scores.get, reverse=True)[:k]\n",
    "\n",
    "        # Calculate precision@k (how many of the top-k predicted items are actually interacted by the user)\n",
    "        precision = len(set(top_k_items).intersection(actual_items)) / k\n",
    "\n",
    "        # Calculate recall@k (how many of the user's actual interacted items are in the top-k predicted items)\n",
    "        recall = len(set(top_k_items).intersection(actual_items)) / len(actual_items)\n",
    "\n",
    "        precision_at_k.append(precision)\n",
    "        recall_at_k.append(recall)\n",
    "\n",
    "    return np.mean(precision_at_k), np.mean(recall_at_k)\n",
    "\n",
    "# Calculate Precision@k and Recall@k for k=5\n",
    "precision, recall = calculate_precision_recall_at_k(user_item_scores, user_interactions, k=5)\n",
    "\n",
    "print(f\"Precision@5: {precision:.4f}\")\n",
    "print(f\"Recall@5: {recall:.4f}\")\n"
   ]
  },
  {
   "cell_type": "code",
   "execution_count": 20,
   "metadata": {
    "execution": {
     "iopub.execute_input": "2025-04-21T14:17:07.396943Z",
     "iopub.status.busy": "2025-04-21T14:17:07.396599Z",
     "iopub.status.idle": "2025-04-21T14:17:07.626496Z",
     "shell.execute_reply": "2025-04-21T14:17:07.625563Z",
     "shell.execute_reply.started": "2025-04-21T14:17:07.396919Z"
    },
    "trusted": true
   },
   "outputs": [
    {
     "data": {
      "image/png": "[encoded data removed]",
      "text/plain": [
       "<Figure size 1000x600 with 1 Axes>"
      ]
     },
     "metadata": {},
     "output_type": "display_data"
    }
   ],
   "source": [
    "import matplotlib.pyplot as plt\n",
    "\n",
    "def calculate_precision_recall_at_k_multiple_k(user_item_scores, user_interactions, ks=[1, 3, 5, 10]):\n",
    "    precision_at_k = {k: [] for k in ks}\n",
    "    recall_at_k = {k: [] for k in ks}\n",
    "\n",
    "    for user, predicted_scores in user_item_scores.items():\n",
    "        # Get the actual items the user interacted with\n",
    "        actual_items = set(user_interactions[user])\n",
    "\n",
    "        # Sort the predicted items by score in descending order\n",
    "        sorted_items = sorted(predicted_scores, key=predicted_scores.get, reverse=True)\n",
    "\n",
    "        for k in ks:\n",
    "            top_k_items = sorted_items[:k]\n",
    "\n",
    "            # Calculate precision@k\n",
    "            precision = len(set(top_k_items).intersection(actual_items)) / k\n",
    "            precision_at_k[k].append(precision)\n",
    "\n",
    "            # Calculate recall@k\n",
    "            recall = len(set(top_k_items).intersection(actual_items)) / len(actual_items)\n",
    "            recall_at_k[k].append(recall)\n",
    "\n",
    "    # Calculate the average Precision@k and Recall@k for each k\n",
    "    avg_precision_at_k = {k: np.mean(precision_at_k[k]) for k in ks}\n",
    "    avg_recall_at_k = {k: np.mean(recall_at_k[k]) for k in ks}\n",
    "\n",
    "    return avg_precision_at_k, avg_recall_at_k\n",
    "\n",
    "# Calculate Precision@k and Recall@k for k=[1, 3, 5, 10]\n",
    "ks = [1, 3, 5, 10]\n",
    "avg_precision, avg_recall = calculate_precision_recall_at_k_multiple_k(user_item_scores, user_interactions, ks)\n",
    "\n",
    "# Plot Precision@k and Recall@k\n",
    "plt.figure(figsize=(10, 6))\n",
    "\n",
    "# Plot Precision@k\n",
    "plt.plot(list(avg_precision.keys()), list(avg_precision.values()), label='Precision@k', marker='o')\n",
    "\n",
    "# Plot Recall@k\n",
    "plt.plot(list(avg_recall.keys()), list(avg_recall.values()), label='Recall@k', marker='o')\n",
    "\n",
    "# Add labels and title\n",
    "plt.xlabel('k')\n",
    "plt.ylabel('Score')\n",
    "plt.title('Precision@k and Recall@k for Model Comparison')\n",
    "plt.legend()\n",
    "plt.grid(True)\n",
    "\n",
    "# Show the plot\n",
    "plt.show()\n"
   ]
  },
  {
   "cell_type": "code",
   "execution_count": null,
   "metadata": {
    "trusted": true
   },
   "outputs": [],
   "source": []
  }
 ],
 "metadata": {
  "kaggle": {
   "accelerator": "none",
   "dataSources": [
    {
     "datasetId": 7010049,
     "sourceId": 11224181,
     "sourceType": "datasetVersion"
    }
   ],
   "dockerImageVersionId": 31012,
   "isGpuEnabled": false,
   "isInternetEnabled": false,
   "language": "python",
   "sourceType": "notebook"
  },
  "kernelspec": {
   "display_name": "Python 3",
   "language": "python",
   "name": "python3"
  },
  "language_info": {
   "codemirror_mode": {
    "name": "ipython",
    "version": 3
   },
   "file_extension": ".py",
   "mimetype": "text/x-python",
   "name": "python",
   "nbconvert_exporter": "python",
   "pygments_lexer": "ipython3",
   "version": "3.11.11"
  }
 },
 "nbformat": 4,
 "nbformat_minor": 4
}
