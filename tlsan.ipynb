{
 "cells": [
  {
   "cell_type": "code",
   "execution_count": null,
   "metadata": {
    "_cell_guid": "b1076dfc-b9ad-4769-8c92-a6c4dae69d19",
    "_uuid": "8f2839f25d086af736a60e9eeb907d3b93b6e0e5",
    "trusted": true
   },
   "outputs": [],
   "source": [
    "# This Python 3 environment comes with many helpful analytics libraries installed\n",
    "# It is defined by the kaggle/python Docker image: https://github.com/kaggle/docker-python\n",
    "# For example, here's several helpful packages to load\n",
    "\n",
    "import numpy as np # linear algebra\n",
    "import pandas as pd # data processing, CSV file I/O (e.g. pd.read_csv)\n",
    "\n",
    "# Input data files are available in the read-only \"../input/\" directory\n",
    "# For example, running this (by clicking run or pressing Shift+Enter) will list all files under the input directory\n",
    "\n",
    "import os\n",
    "for dirname, _, filenames in os.walk('/kaggle/input'):\n",
    "    for filename in filenames:\n",
    "        print(os.path.join(dirname, filename))\n",
    "\n",
    "# You can write up to 20GB to the current directory (/kaggle/working/) that gets preserved as output when you create a version using \"Save & Run All\" \n",
    "# You can also write temporary files to /kaggle/temp/, but they won't be saved outside of the current session"
   ]
  },
  {
   "cell_type": "code",
   "execution_count": 1,
   "metadata": {
    "execution": {
     "iopub.execute_input": "2025-04-21T14:24:01.526892Z",
     "iopub.status.busy": "2025-04-21T14:24:01.526713Z",
     "iopub.status.idle": "2025-04-21T14:24:39.881863Z",
     "shell.execute_reply": "2025-04-21T14:24:39.881041Z",
     "shell.execute_reply.started": "2025-04-21T14:24:01.526874Z"
    },
    "trusted": true
   },
   "outputs": [
    {
     "name": "stdout",
     "output_type": "stream",
     "text": [
      "Raw data sample:\n",
      "                        user_id        asin                timestamp\n",
      "0  AGGZ357AO26RQZVRLGU4D4N52DZQ  B013488XFS  2015-08-24 03:07:17.000\n",
      "1  AGKASBHYZPGTEPO6LWZPVJWB2BVA  B00CB6VTDS  2016-04-19 21:16:50.000\n",
      "2  AG2L7H23R5LLKDKLBEF2Q3L2MVDA  B096Z8Z3R6  2022-03-03 01:43:54.582\n",
      "3  AG2L7H23R5LLKDKLBEF2Q3L2MVDA  B09M14D9FZ  2022-02-27 04:56:01.864\n",
      "4  AG2L7H23R5LLKDKLBEF2Q3L2MVDA  B001H1SVZC  2020-05-28 04:13:47.074\n"
     ]
    }
   ],
   "source": [
    "import pandas as pd\n",
    "\n",
    "# Load data\n",
    "df = pd.read_csv('/kaggle/input/moviesandtv-csv/Movies_and_TV.csv')\n",
    "\n",
    "# Preview\n",
    "print(\"Raw data sample:\")\n",
    "print(df.head())\n"
   ]
  },
  {
   "cell_type": "code",
   "execution_count": 2,
   "metadata": {
    "execution": {
     "iopub.execute_input": "2025-04-21T14:24:50.143832Z",
     "iopub.status.busy": "2025-04-21T14:24:50.143111Z",
     "iopub.status.idle": "2025-04-21T14:25:37.572866Z",
     "shell.execute_reply": "2025-04-21T14:25:37.572143Z",
     "shell.execute_reply.started": "2025-04-21T14:24:50.143805Z"
    },
    "trusted": true
   },
   "outputs": [
    {
     "name": "stdout",
     "output_type": "stream",
     "text": [
      "                        user_id     user        asin    item\n",
      "0  AGGZ357AO26RQZVRLGU4D4N52DZQ  3910879  B013488XFS  479277\n",
      "1  AGKASBHYZPGTEPO6LWZPVJWB2BVA  4076278  B00CB6VTDS  374284\n",
      "2  AG2L7H23R5LLKDKLBEF2Q3L2MVDA  3278584  B096Z8Z3R6  714766\n",
      "3  AG2L7H23R5LLKDKLBEF2Q3L2MVDA  3278584  B09M14D9FZ  725462\n",
      "4  AG2L7H23R5LLKDKLBEF2Q3L2MVDA  3278584  B001H1SVZC  193598\n"
     ]
    }
   ],
   "source": [
    "from sklearn.preprocessing import LabelEncoder\n",
    "\n",
    "# Create encoders\n",
    "user_encoder = LabelEncoder()\n",
    "item_encoder = LabelEncoder()\n",
    "\n",
    "# Encode columns\n",
    "df['user'] = user_encoder.fit_transform(df['user_id'])\n",
    "df['item'] = item_encoder.fit_transform(df['asin'])\n",
    "\n",
    "# Check a few encoded samples\n",
    "print(df[['user_id', 'user', 'asin', 'item']].head())\n"
   ]
  },
  {
   "cell_type": "code",
   "execution_count": 3,
   "metadata": {
    "execution": {
     "iopub.execute_input": "2025-04-21T14:25:49.573185Z",
     "iopub.status.busy": "2025-04-21T14:25:49.572441Z",
     "iopub.status.idle": "2025-04-21T14:26:25.421898Z",
     "shell.execute_reply": "2025-04-21T14:26:25.421251Z",
     "shell.execute_reply.started": "2025-04-21T14:25:49.573154Z"
    },
    "trusted": true
   },
   "outputs": [
    {
     "name": "stdout",
     "output_type": "stream",
     "text": [
      "         user    item               timestamp\n",
      "2791445     0  338085 2015-06-11 00:16:50.000\n",
      "2791444     0  339215 2015-07-30 19:21:12.000\n",
      "2791443     0  366482 2016-07-14 20:18:56.000\n",
      "2791442     0  508873 2016-08-27 13:55:47.000\n",
      "2791441     0  492965 2020-07-29 17:08:21.146\n",
      "2791440     0  529823 2021-10-27 23:59:15.489\n",
      "2791439     0  296576 2021-10-28 00:00:35.176\n",
      "2791438     0  568689 2022-04-09 21:28:56.767\n",
      "2791437     0  634506 2022-04-09 21:33:04.168\n",
      "1711173     1   98006 2005-06-06 18:56:12.000\n"
     ]
    }
   ],
   "source": [
    "# Convert timestamp to datetime (if it's not already)\n",
    "df['timestamp'] = pd.to_datetime(df['timestamp'])\n",
    "\n",
    "# Sort by user and timestamp\n",
    "df = df.sort_values(by=['user', 'timestamp'])\n",
    "\n",
    "# Quick check: print a few sorted rows\n",
    "print(df[['user', 'item', 'timestamp']].head(10))\n"
   ]
  },
  {
   "cell_type": "code",
   "execution_count": 4,
   "metadata": {
    "execution": {
     "iopub.execute_input": "2025-04-21T14:26:45.953028Z",
     "iopub.status.busy": "2025-04-21T14:26:45.952442Z",
     "iopub.status.idle": "2025-04-21T14:27:37.781782Z",
     "shell.execute_reply": "2025-04-21T14:27:37.781021Z",
     "shell.execute_reply.started": "2025-04-21T14:26:45.953004Z"
    },
    "trusted": true
   },
   "outputs": [
    {
     "name": "stdout",
     "output_type": "stream",
     "text": [
      "User 0 interaction history (item IDs):\n",
      "[338085, 339215, 366482, 508873, 492965, 529823, 296576, 568689, 634506]\n"
     ]
    }
   ],
   "source": [
    "from collections import defaultdict\n",
    "\n",
    "# Create dictionary: user -> list of interacted item IDs\n",
    "user_histories = defaultdict(list)\n",
    "for row in df.itertuples():\n",
    "    user_histories[row.user].append(row.item)\n",
    "\n",
    "# Show sample\n",
    "sample_user = list(user_histories.keys())[0]\n",
    "print(f\"User {sample_user} interaction history (item IDs):\")\n",
    "print(user_histories[sample_user])\n"
   ]
  },
  {
   "cell_type": "code",
   "execution_count": 5,
   "metadata": {
    "execution": {
     "iopub.execute_input": "2025-04-21T14:27:44.526185Z",
     "iopub.status.busy": "2025-04-21T14:27:44.525869Z",
     "iopub.status.idle": "2025-04-21T14:27:50.722329Z",
     "shell.execute_reply": "2025-04-21T14:27:50.721596Z",
     "shell.execute_reply.started": "2025-04-21T14:27:44.526163Z"
    },
    "trusted": true
   },
   "outputs": [
    {
     "name": "stdout",
     "output_type": "stream",
     "text": [
      "✅ Total training samples: 558\n",
      "🧪 Sample sequence: [160624, 161856, 188991, 67575, 191602]\n",
      "✅ Positive target: 131875\n",
      "❌ Negative target: 581352\n"
     ]
    }
   ],
   "source": [
    "import random\n",
    "\n",
    "SEQ_LEN = 5\n",
    "MAX_SAMPLES = 5000\n",
    "all_items = set(df['item'].unique())\n",
    "\n",
    "sequences = []\n",
    "targets = []\n",
    "negatives = []\n",
    "sample_count = 0\n",
    "\n",
    "# Pick 1000 random users to loop over\n",
    "sample_users = random.sample(list(user_histories.keys()), 1000)\n",
    "\n",
    "for user in sample_users:\n",
    "    items = user_histories[user]\n",
    "    if len(items) <= SEQ_LEN:\n",
    "        continue\n",
    "    user_items_set = set(items)\n",
    "    neg_pool = list(all_items - user_items_set)\n",
    "    \n",
    "    for i in range(SEQ_LEN, len(items)):\n",
    "        seq = items[i-SEQ_LEN:i]\n",
    "        pos = items[i]\n",
    "        neg = random.choice(neg_pool)\n",
    "\n",
    "        sequences.append(seq)\n",
    "        targets.append(pos)\n",
    "        negatives.append(neg)\n",
    "        sample_count += 1\n",
    "        if sample_count >= MAX_SAMPLES:\n",
    "            break\n",
    "    if sample_count >= MAX_SAMPLES:\n",
    "        break\n",
    "\n",
    "print(f\"✅ Total training samples: {len(sequences)}\")\n",
    "print(\"🧪 Sample sequence:\", sequences[0])\n",
    "print(\"✅ Positive target:\", targets[0])\n",
    "print(\"❌ Negative target:\", negatives[0])\n"
   ]
  },
  {
   "cell_type": "code",
   "execution_count": 6,
   "metadata": {
    "execution": {
     "iopub.execute_input": "2025-04-21T14:28:14.384195Z",
     "iopub.status.busy": "2025-04-21T14:28:14.383625Z",
     "iopub.status.idle": "2025-04-21T14:28:17.919066Z",
     "shell.execute_reply": "2025-04-21T14:28:17.918385Z",
     "shell.execute_reply.started": "2025-04-21T14:28:14.384167Z"
    },
    "trusted": true
   },
   "outputs": [
    {
     "name": "stdout",
     "output_type": "stream",
     "text": [
      "📦 Sequence batch shape: torch.Size([128, 5])\n",
      "✅ Positive batch shape: torch.Size([128])\n",
      "❌ Negative batch shape: torch.Size([128])\n"
     ]
    }
   ],
   "source": [
    "import torch\n",
    "from torch.utils.data import Dataset, DataLoader\n",
    "\n",
    "class SequenceDataset(Dataset):\n",
    "    def __init__(self, sequences, positives, negatives):\n",
    "        self.sequences = sequences\n",
    "        self.positives = positives\n",
    "        self.negatives = negatives\n",
    "\n",
    "    def __len__(self):\n",
    "        return len(self.sequences)\n",
    "\n",
    "    def __getitem__(self, idx):\n",
    "        return (\n",
    "            torch.tensor(self.sequences[idx], dtype=torch.long),\n",
    "            torch.tensor(self.positives[idx], dtype=torch.long),\n",
    "            torch.tensor(self.negatives[idx], dtype=torch.long)\n",
    "        )\n",
    "\n",
    "# Create dataset and dataloader\n",
    "dataset = SequenceDataset(sequences, targets, negatives)\n",
    "dataloader = DataLoader(dataset, batch_size=128, shuffle=True)\n",
    "\n",
    "# Test a single batch\n",
    "for batch in dataloader:\n",
    "    seq_batch, pos_batch, neg_batch = batch\n",
    "    print(\"📦 Sequence batch shape:\", seq_batch.shape)\n",
    "    print(\"✅ Positive batch shape:\", pos_batch.shape)\n",
    "    print(\"❌ Negative batch shape:\", neg_batch.shape)\n",
    "    break\n"
   ]
  },
  {
   "cell_type": "code",
   "execution_count": 7,
   "metadata": {
    "execution": {
     "iopub.execute_input": "2025-04-21T14:28:54.129097Z",
     "iopub.status.busy": "2025-04-21T14:28:54.128683Z",
     "iopub.status.idle": "2025-04-21T14:28:54.136149Z",
     "shell.execute_reply": "2025-04-21T14:28:54.135349Z",
     "shell.execute_reply.started": "2025-04-21T14:28:54.129072Z"
    },
    "trusted": true
   },
   "outputs": [],
   "source": [
    "import torch.nn as nn\n",
    "import torch.nn.functional as F\n",
    "\n",
    "class TLSAN(nn.Module):\n",
    "    def __init__(self, num_items, embedding_dim=64, seq_len=5):\n",
    "        super().__init__()\n",
    "        self.item_embedding = nn.Embedding(num_items, embedding_dim)\n",
    "        self.position_embedding = nn.Embedding(seq_len, embedding_dim)\n",
    "\n",
    "        self.self_attention = nn.MultiheadAttention(embed_dim=embedding_dim, num_heads=1, batch_first=True)\n",
    "\n",
    "        self.fc = nn.Linear(embedding_dim, embedding_dim)\n",
    "        self.output = nn.Linear(embedding_dim, 1)\n",
    "\n",
    "    def forward(self, sequences, candidates):\n",
    "        # Embed sequences and positions\n",
    "        seq_emb = self.item_embedding(sequences)  # (batch_size, seq_len, embed_dim)\n",
    "        positions = torch.arange(sequences.size(1), device=sequences.device).unsqueeze(0)\n",
    "        pos_emb = self.position_embedding(positions)  # (1, seq_len, embed_dim)\n",
    "        x = seq_emb + pos_emb\n",
    "\n",
    "        # Self-attention over sequence\n",
    "        attn_output, _ = self.self_attention(x, x, x)  # (batch_size, seq_len, embed_dim)\n",
    "        seq_repr = attn_output.mean(dim=1)  # Average pooling over time\n",
    "\n",
    "        # Embed candidate items (positive or negative)\n",
    "        cand_emb = self.item_embedding(candidates)  # (batch_size, embed_dim)\n",
    "\n",
    "        # Score with dot product\n",
    "        scores = (self.fc(seq_repr) * cand_emb).sum(dim=1)  # (batch_size,)\n",
    "\n",
    "        return scores\n"
   ]
  },
  {
   "cell_type": "code",
   "execution_count": 8,
   "metadata": {
    "execution": {
     "iopub.execute_input": "2025-04-21T14:29:25.168261Z",
     "iopub.status.busy": "2025-04-21T14:29:25.167646Z",
     "iopub.status.idle": "2025-04-21T14:29:28.015952Z",
     "shell.execute_reply": "2025-04-21T14:29:28.015194Z",
     "shell.execute_reply.started": "2025-04-21T14:29:25.168234Z"
    },
    "trusted": true
   },
   "outputs": [],
   "source": [
    "import torch.optim as optim\n",
    "\n",
    "device = torch.device(\"cpu\")  # Explicitly set to CPU\n",
    "\n",
    "# Define model\n",
    "num_items = df['item'].max() + 1\n",
    "model = TLSAN(num_items=num_items).to(device)\n",
    "\n",
    "# Optimizer and loss function\n",
    "optimizer = optim.Adam(model.parameters(), lr=0.001)\n",
    "criterion = nn.BCEWithLogitsLoss()\n"
   ]
  },
  {
   "cell_type": "code",
   "execution_count": 9,
   "metadata": {
    "execution": {
     "iopub.execute_input": "2025-04-21T14:29:36.535793Z",
     "iopub.status.busy": "2025-04-21T14:29:36.534874Z",
     "iopub.status.idle": "2025-04-21T14:29:36.541612Z",
     "shell.execute_reply": "2025-04-21T14:29:36.540619Z",
     "shell.execute_reply.started": "2025-04-21T14:29:36.535767Z"
    },
    "trusted": true
   },
   "outputs": [],
   "source": [
    "def train_one_epoch(model, dataloader, optimizer, criterion, device):\n",
    "    model.train()\n",
    "    total_loss = 0\n",
    "\n",
    "    for sequences, pos_items, neg_items in dataloader:\n",
    "        sequences = sequences.to(device)\n",
    "        pos_items = pos_items.to(device)\n",
    "        neg_items = neg_items.to(device)\n",
    "\n",
    "        # Positive and negative scores\n",
    "        pos_scores = model(sequences, pos_items)\n",
    "        neg_scores = model(sequences, neg_items)\n",
    "\n",
    "        # Labels: 1 for positive, 0 for negative\n",
    "        labels = torch.cat([torch.ones_like(pos_scores), torch.zeros_like(neg_scores)])\n",
    "        preds = torch.cat([pos_scores, neg_scores])\n",
    "\n",
    "        loss = criterion(preds, labels)\n",
    "\n",
    "        optimizer.zero_grad()\n",
    "        loss.backward()\n",
    "        optimizer.step()\n",
    "\n",
    "        total_loss += loss.item()\n",
    "    return total_loss / len(dataloader)\n"
   ]
  },
  {
   "cell_type": "code",
   "execution_count": 10,
   "metadata": {
    "execution": {
     "iopub.execute_input": "2025-04-21T14:29:46.552883Z",
     "iopub.status.busy": "2025-04-21T14:29:46.552590Z",
     "iopub.status.idle": "2025-04-21T14:29:58.963975Z",
     "shell.execute_reply": "2025-04-21T14:29:58.963149Z",
     "shell.execute_reply.started": "2025-04-21T14:29:46.552862Z"
    },
    "trusted": true
   },
   "outputs": [
    {
     "name": "stdout",
     "output_type": "stream",
     "text": [
      "📘 Epoch 1/3 — Loss: 0.8969\n",
      "📘 Epoch 2/3 — Loss: 0.7116\n",
      "📘 Epoch 3/3 — Loss: 0.6210\n"
     ]
    }
   ],
   "source": [
    "EPOCHS = 3\n",
    "\n",
    "for epoch in range(1, EPOCHS + 1):\n",
    "    avg_loss = train_one_epoch(model, dataloader, optimizer, criterion, device)\n",
    "    print(f\"📘 Epoch {epoch}/{EPOCHS} — Loss: {avg_loss:.4f}\")\n"
   ]
  },
  {
   "cell_type": "code",
   "execution_count": 11,
   "metadata": {
    "execution": {
     "iopub.execute_input": "2025-04-21T14:30:09.892828Z",
     "iopub.status.busy": "2025-04-21T14:30:09.892540Z",
     "iopub.status.idle": "2025-04-21T14:30:09.967123Z",
     "shell.execute_reply": "2025-04-21T14:30:09.966465Z",
     "shell.execute_reply.started": "2025-04-21T14:30:09.892806Z"
    },
    "trusted": true
   },
   "outputs": [],
   "source": [
    "from sklearn.metrics import roc_auc_score\n",
    "\n",
    "def compute_auc(model, dataloader, device):\n",
    "    model.eval()\n",
    "    all_labels = []\n",
    "    all_scores = []\n",
    "\n",
    "    with torch.no_grad():\n",
    "        for sequences, pos_items, neg_items in dataloader:\n",
    "            sequences = sequences.to(device)\n",
    "            pos_items = pos_items.to(device)\n",
    "            neg_items = neg_items.to(device)\n",
    "\n",
    "            pos_scores = model(sequences, pos_items)\n",
    "            neg_scores = model(sequences, neg_items)\n",
    "\n",
    "            # Labels: 1 for positive, 0 for negative\n",
    "            labels = torch.cat([torch.ones_like(pos_scores), torch.zeros_like(neg_scores)]).cpu()\n",
    "            scores = torch.cat([pos_scores, neg_scores]).cpu()\n",
    "\n",
    "            all_labels.extend(labels.numpy())\n",
    "            all_scores.extend(scores.numpy())\n",
    "\n",
    "    auc = roc_auc_score(all_labels, all_scores)\n",
    "    return auc\n"
   ]
  },
  {
   "cell_type": "code",
   "execution_count": 12,
   "metadata": {
    "execution": {
     "iopub.execute_input": "2025-04-21T14:30:21.954572Z",
     "iopub.status.busy": "2025-04-21T14:30:21.954278Z",
     "iopub.status.idle": "2025-04-21T14:30:21.988716Z",
     "shell.execute_reply": "2025-04-21T14:30:21.987943Z",
     "shell.execute_reply.started": "2025-04-21T14:30:21.954549Z"
    },
    "trusted": true
   },
   "outputs": [
    {
     "name": "stdout",
     "output_type": "stream",
     "text": [
      "🔍 AUC: 0.7726\n"
     ]
    }
   ],
   "source": [
    "auc = compute_auc(model, dataloader, device)\n",
    "print(f\"🔍 AUC: {auc:.4f}\")\n"
   ]
  },
  {
   "cell_type": "code",
   "execution_count": 13,
   "metadata": {
    "execution": {
     "iopub.execute_input": "2025-04-21T14:30:31.422932Z",
     "iopub.status.busy": "2025-04-21T14:30:31.422443Z",
     "iopub.status.idle": "2025-04-21T14:31:10.500477Z",
     "shell.execute_reply": "2025-04-21T14:31:10.499667Z",
     "shell.execute_reply.started": "2025-04-21T14:30:31.422907Z"
    },
    "trusted": true
   },
   "outputs": [
    {
     "name": "stdout",
     "output_type": "stream",
     "text": [
      "📘 Epoch 1/10 — Loss: 0.5592\n",
      "📘 Epoch 2/10 — Loss: 0.4987\n",
      "📘 Epoch 3/10 — Loss: 0.4598\n",
      "📘 Epoch 4/10 — Loss: 0.4137\n",
      "📘 Epoch 5/10 — Loss: 0.3796\n",
      "📘 Epoch 6/10 — Loss: 0.3467\n",
      "📘 Epoch 7/10 — Loss: 0.3042\n",
      "📘 Epoch 8/10 — Loss: 0.2739\n",
      "📘 Epoch 9/10 — Loss: 0.2482\n",
      "📘 Epoch 10/10 — Loss: 0.2154\n"
     ]
    }
   ],
   "source": [
    "EPOCHS = 10  # or 20\n",
    "\n",
    "for epoch in range(1, EPOCHS + 1):\n",
    "    avg_loss = train_one_epoch(model, dataloader, optimizer, criterion, device)\n",
    "    print(f\"📘 Epoch {epoch}/{EPOCHS} — Loss: {avg_loss:.4f}\")\n"
   ]
  },
  {
   "cell_type": "code",
   "execution_count": 14,
   "metadata": {
    "execution": {
     "iopub.execute_input": "2025-04-21T14:31:35.974259Z",
     "iopub.status.busy": "2025-04-21T14:31:35.973709Z",
     "iopub.status.idle": "2025-04-21T14:31:36.004537Z",
     "shell.execute_reply": "2025-04-21T14:31:36.003856Z",
     "shell.execute_reply.started": "2025-04-21T14:31:35.974231Z"
    },
    "trusted": true
   },
   "outputs": [
    {
     "name": "stdout",
     "output_type": "stream",
     "text": [
      "🔍 AUC: 0.9978\n"
     ]
    }
   ],
   "source": [
    "auc = compute_auc(model, dataloader, device)\n",
    "print(f\"🔍 AUC: {auc:.4f}\")\n",
    "\n"
   ]
  },
  {
   "cell_type": "code",
   "execution_count": 15,
   "metadata": {
    "execution": {
     "iopub.execute_input": "2025-04-21T14:32:13.647854Z",
     "iopub.status.busy": "2025-04-21T14:32:13.647540Z",
     "iopub.status.idle": "2025-04-21T14:32:13.840936Z",
     "shell.execute_reply": "2025-04-21T14:32:13.840155Z",
     "shell.execute_reply.started": "2025-04-21T14:32:13.647831Z"
    },
    "trusted": true
   },
   "outputs": [
    {
     "name": "stdout",
     "output_type": "stream",
     "text": [
      "💾 Model saved as tlsan_model.pth\n"
     ]
    }
   ],
   "source": [
    "# Create a dictionary with all info you need\n",
    "model_info = {\n",
    "    'model_state_dict': model.state_dict(),\n",
    "    'num_items': num_items,\n",
    "    'embedding_dim': 64,\n",
    "    'seq_len': 5\n",
    "}\n",
    "\n",
    "# Save to file\n",
    "torch.save(model_info, 'tlsan_model.pth')\n",
    "print(\"💾 Model saved as tlsan_model.pth\")\n"
   ]
  },
  {
   "cell_type": "code",
   "execution_count": 16,
   "metadata": {
    "execution": {
     "iopub.execute_input": "2025-04-21T14:44:44.019238Z",
     "iopub.status.busy": "2025-04-21T14:44:44.018492Z",
     "iopub.status.idle": "2025-04-21T14:44:44.441614Z",
     "shell.execute_reply": "2025-04-21T14:44:44.440555Z",
     "shell.execute_reply.started": "2025-04-21T14:44:44.019204Z"
    },
    "trusted": true
   },
   "outputs": [
    {
     "ename": "NameError",
     "evalue": "name 'predictions' is not defined",
     "output_type": "error",
     "traceback": [
      "\u001b[0;31m---------------------------------------------------------------------------\u001b[0m",
      "\u001b[0;31mNameError\u001b[0m                                 Traceback (most recent call last)",
      "\u001b[0;32m/tmp/ipykernel_31/2859192676.py\u001b[0m in \u001b[0;36m<cell line: 0>\u001b[0;34m()\u001b[0m\n\u001b[1;32m      6\u001b[0m \u001b[0;32mimport\u001b[0m \u001b[0mpandas\u001b[0m \u001b[0;32mas\u001b[0m \u001b[0mpd\u001b[0m\u001b[0;34m\u001b[0m\u001b[0;34m\u001b[0m\u001b[0m\n\u001b[1;32m      7\u001b[0m df_plot = pd.DataFrame({\n\u001b[0;32m----> 8\u001b[0;31m     \u001b[0;34m'Score'\u001b[0m\u001b[0;34m:\u001b[0m \u001b[0mpredictions\u001b[0m\u001b[0;34m,\u001b[0m\u001b[0;34m\u001b[0m\u001b[0;34m\u001b[0m\u001b[0m\n\u001b[0m\u001b[1;32m      9\u001b[0m     \u001b[0;34m'Label'\u001b[0m\u001b[0;34m:\u001b[0m \u001b[0mtrue_labels\u001b[0m\u001b[0;34m\u001b[0m\u001b[0;34m\u001b[0m\u001b[0m\n\u001b[1;32m     10\u001b[0m })\n",
      "\u001b[0;31mNameError\u001b[0m: name 'predictions' is not defined"
     ]
    }
   ],
   "source": [
    "import matplotlib.pyplot as plt\n",
    "import seaborn as sns\n",
    "import numpy as np\n",
    "\n",
    "# Create a DataFrame for plotting\n",
    "import pandas as pd\n",
    "df_plot = pd.DataFrame({\n",
    "    'Score': predictions,\n",
    "    'Label': true_labels\n",
    "})\n",
    "\n",
    "# Create the boxplot\n",
    "plt.figure(figsize=(8, 6))\n",
    "sns.boxplot(x='Label', y='Score', data=df_plot)\n",
    "plt.title(\"📦 TLSAN Prediction Score Distribution by True Label\")\n",
    "plt.xlabel(\"True Label (0 = Negative, 1 = Positive)\")\n",
    "plt.ylabel(\"Model Score\")\n",
    "plt.grid(True)\n",
    "plt.show()\n"
   ]
  },
  {
   "cell_type": "code",
   "execution_count": 17,
   "metadata": {
    "execution": {
     "iopub.execute_input": "2025-04-21T14:45:08.541368Z",
     "iopub.status.busy": "2025-04-21T14:45:08.541036Z",
     "iopub.status.idle": "2025-04-21T14:45:08.576443Z",
     "shell.execute_reply": "2025-04-21T14:45:08.575574Z",
     "shell.execute_reply.started": "2025-04-21T14:45:08.541343Z"
    },
    "trusted": true
   },
   "outputs": [],
   "source": [
    "import numpy as np\n",
    "\n",
    "# Put model in eval mode\n",
    "model.eval()\n",
    "\n",
    "predictions = []\n",
    "true_labels = []\n",
    "\n",
    "with torch.no_grad():\n",
    "    for sequences, pos_items, neg_items in dataloader:\n",
    "        sequences = sequences.to(device)\n",
    "        pos_items = pos_items.to(device)\n",
    "        neg_items = neg_items.to(device)\n",
    "\n",
    "        pos_scores = model(sequences, pos_items)\n",
    "        neg_scores = model(sequences, neg_items)\n",
    "\n",
    "        predictions.extend(pos_scores.cpu().numpy())\n",
    "        predictions.extend(neg_scores.cpu().numpy())\n",
    "\n",
    "        true_labels.extend(np.ones(len(pos_scores)))\n",
    "        true_labels.extend(np.zeros(len(neg_scores)))\n",
    "\n",
    "predictions = np.array(predictions)\n",
    "true_labels = np.array(true_labels)\n"
   ]
  },
  {
   "cell_type": "code",
   "execution_count": null,
   "metadata": {
    "execution": {
     "iopub.execute_input": "2025-04-21T14:45:18.621975Z",
     "iopub.status.busy": "2025-04-21T14:45:18.621606Z",
     "iopub.status.idle": "2025-04-21T14:45:18.873499Z",
     "shell.execute_reply": "2025-04-21T14:45:18.872645Z",
     "shell.execute_reply.started": "2025-04-21T14:45:18.621950Z"
    },
    "trusted": true
   },
   "outputs": [
    {
     "name": "stderr",
     "output_type": "stream",
     "text": [
      "/usr/local/lib/python3.11/dist-packages/IPython/core/pylabtools.py:151: UserWarning: Glyph 128230 (\\N{PACKAGE}) missing from current font.\n",
      "  fig.canvas.print_figure(bytes_io, **kw)\n"
     ]
    },
    {
     "data": {
      "image/png": "[encoded data removed]",
      "text/plain": [
       "<Figure size 800x600 with 1 Axes>"
      ]
     },
     "metadata": {},
     "output_type": "display_data"
    }
   ],
   "source": [
    "import matplotlib.pyplot as plt\n",
    "import seaborn as sns\n",
    "import pandas as pd\n",
    "\n",
    "df_plot = pd.DataFrame({\n",
    "    'Score': predictions,\n",
    "    'Label': true_labels\n",
    "})\n",
    "\n",
    "plt.figure(figsize=(8, 6))\n",
    "sns.boxplot(x='Label', y='Score', data=df_plot)\n",
    "plt.title(\"TLSAN Prediction Score Distribution by True Label\")\n",
    "plt.xlabel(\"True Label (0 = Negative, 1 = Positive)\")\n",
    "plt.ylabel(\"Model Score\")\n",
    "plt.grid(True)\n",
    "plt.show()\n"
   ]
  },
  {
   "cell_type": "code",
   "execution_count": 19,
   "metadata": {
    "execution": {
     "iopub.execute_input": "2025-04-21T14:48:14.846915Z",
     "iopub.status.busy": "2025-04-21T14:48:14.846558Z",
     "iopub.status.idle": "2025-04-21T14:48:15.034853Z",
     "shell.execute_reply": "2025-04-21T14:48:15.033947Z",
     "shell.execute_reply.started": "2025-04-21T14:48:14.846890Z"
    },
    "trusted": true
   },
   "outputs": [
    {
     "name": "stdout",
     "output_type": "stream",
     "text": [
      "✅ Boxplot saved as 'tlsan_boxplot.png'\n"
     ]
    },
    {
     "name": "stderr",
     "output_type": "stream",
     "text": [
      "/tmp/ipykernel_31/328301945.py:20: UserWarning: Glyph 128230 (\\N{PACKAGE}) missing from current font.\n",
      "  plt.savefig(\"tlsan_boxplot.png\", bbox_inches='tight')\n"
     ]
    }
   ],
   "source": [
    "import matplotlib.pyplot as plt\n",
    "import seaborn as sns\n",
    "import pandas as pd\n",
    "\n",
    "# Create DataFrame\n",
    "df_plot = pd.DataFrame({\n",
    "    'Score': predictions,\n",
    "    'Label': true_labels\n",
    "})\n",
    "\n",
    "# Plot and save\n",
    "plt.figure(figsize=(8, 6))\n",
    "sns.boxplot(x='Label', y='Score', data=df_plot)\n",
    "plt.title(\"📦 TLSAN Prediction Score Distribution by True Label\")\n",
    "plt.xlabel(\"True Label (0 = Negative, 1 = Positive)\")\n",
    "plt.ylabel(\"Model Score\")\n",
    "plt.grid(True)\n",
    "\n",
    "# Save the plot\n",
    "plt.savefig(\"tlsan_boxplot.png\", bbox_inches='tight')\n",
    "plt.close()\n",
    "\n",
    "print(\"✅ Boxplot saved as 'tlsan_boxplot.png'\")\n"
   ]
  },
  {
   "cell_type": "code",
   "execution_count": 20,
   "metadata": {
    "execution": {
     "iopub.execute_input": "2025-04-21T14:50:18.167746Z",
     "iopub.status.busy": "2025-04-21T14:50:18.166984Z",
     "iopub.status.idle": "2025-04-21T14:50:18.360053Z",
     "shell.execute_reply": "2025-04-21T14:50:18.359232Z",
     "shell.execute_reply.started": "2025-04-21T14:50:18.167708Z"
    },
    "trusted": true
   },
   "outputs": [
    {
     "name": "stdout",
     "output_type": "stream",
     "text": [
      "✅ Boxplot saved as 'tlsan_boxplot.png'\n"
     ]
    },
    {
     "name": "stderr",
     "output_type": "stream",
     "text": [
      "/tmp/ipykernel_31/328301945.py:20: UserWarning: Glyph 128230 (\\N{PACKAGE}) missing from current font.\n",
      "  plt.savefig(\"tlsan_boxplot.png\", bbox_inches='tight')\n"
     ]
    }
   ],
   "source": [
    "import matplotlib.pyplot as plt\n",
    "import seaborn as sns\n",
    "import pandas as pd\n",
    "\n",
    "# Create DataFrame\n",
    "df_plot = pd.DataFrame({\n",
    "    'Score': predictions,\n",
    "    'Label': true_labels\n",
    "})\n",
    "\n",
    "# Plot and save\n",
    "plt.figure(figsize=(8, 6))\n",
    "sns.boxplot(x='Label', y='Score', data=df_plot)\n",
    "plt.title(\"📦 TLSAN Prediction Score Distribution by True Label\")\n",
    "plt.xlabel(\"True Label (0 = Negative, 1 = Positive)\")\n",
    "plt.ylabel(\"Model Score\")\n",
    "plt.grid(True)\n",
    "\n",
    "# Save the plot\n",
    "plt.savefig(\"tlsan_boxplot.png\", bbox_inches='tight')\n",
    "plt.close()\n",
    "\n",
    "print(\"✅ Boxplot saved as 'tlsan_boxplot.png'\")\n"
   ]
  },
  {
   "cell_type": "code",
   "execution_count": 21,
   "metadata": {
    "execution": {
     "iopub.execute_input": "2025-04-21T14:50:37.652063Z",
     "iopub.status.busy": "2025-04-21T14:50:37.651769Z",
     "iopub.status.idle": "2025-04-21T14:50:37.834151Z",
     "shell.execute_reply": "2025-04-21T14:50:37.832994Z",
     "shell.execute_reply.started": "2025-04-21T14:50:37.652042Z"
    },
    "trusted": true
   },
   "outputs": [
    {
     "data": {
      "image/png": "[encoded data removed]",
      "text/plain": [
       "<Figure size 640x480 with 2 Axes>"
      ]
     },
     "metadata": {},
     "output_type": "display_data"
    }
   ],
   "source": [
    "from sklearn.metrics import confusion_matrix, ConfusionMatrixDisplay\n",
    "import matplotlib.pyplot as plt\n",
    "import numpy as np\n",
    "\n",
    "# Convert predicted scores to binary predictions (threshold = 0.5)\n",
    "pred_labels = (predictions >= 0.5).astype(int)\n",
    "\n",
    "# Compute confusion matrix\n",
    "cm = confusion_matrix(true_labels, pred_labels)\n",
    "\n",
    "# Display the confusion matrix\n",
    "disp = ConfusionMatrixDisplay(confusion_matrix=cm, display_labels=[0, 1])\n",
    "disp.plot(cmap=plt.cm.Blues)\n",
    "plt.title(\"TLSAN Confusion Matrix\")\n",
    "plt.grid(False)\n",
    "plt.show()\n"
   ]
  },
  {
   "cell_type": "code",
   "execution_count": 25,
   "metadata": {
    "execution": {
     "iopub.execute_input": "2025-04-21T15:02:10.145904Z",
     "iopub.status.busy": "2025-04-21T15:02:10.145597Z",
     "iopub.status.idle": "2025-04-21T15:02:10.158194Z",
     "shell.execute_reply": "2025-04-21T15:02:10.157186Z",
     "shell.execute_reply.started": "2025-04-21T15:02:10.145881Z"
    },
    "trusted": true
   },
   "outputs": [
    {
     "name": "stdout",
     "output_type": "stream",
     "text": [
      "🔢 Confusion Matrix:\n",
      "[[556   2]\n",
      " [ 47 511]]\n",
      "\n",
      "True Negatives:  556\n",
      "False Positives: 2\n",
      "False Negatives: 47\n",
      "True Positives:  511\n"
     ]
    }
   ],
   "source": [
    "from sklearn.metrics import confusion_matrix\n",
    "\n",
    "# Convert predicted scores to binary predictions (using 0.5 threshold)\n",
    "pred_labels = (predictions >= 0.5).astype(int)\n",
    "\n",
    "# Compute confusion matrix\n",
    "cm = confusion_matrix(true_labels, pred_labels)\n",
    "\n",
    "# Print confusion matrix\n",
    "print(\"🔢 Confusion Matrix:\")\n",
    "print(cm)\n",
    "\n",
    "# Optional: labeled output\n",
    "tn, fp, fn, tp = cm.ravel()\n",
    "print(f\"\\nTrue Negatives:  {tn}\")\n",
    "print(f\"False Positives: {fp}\")\n",
    "print(f\"False Negatives: {fn}\")\n",
    "print(f\"True Positives:  {tp}\")\n"
   ]
  },
  {
   "cell_type": "code",
   "execution_count": 26,
   "metadata": {
    "execution": {
     "iopub.execute_input": "2025-04-21T15:05:19.445194Z",
     "iopub.status.busy": "2025-04-21T15:05:19.444865Z",
     "iopub.status.idle": "2025-04-21T15:05:19.627931Z",
     "shell.execute_reply": "2025-04-21T15:05:19.626946Z",
     "shell.execute_reply.started": "2025-04-21T15:05:19.445166Z"
    },
    "trusted": true
   },
   "outputs": [
    {
     "name": "stdout",
     "output_type": "stream",
     "text": [
      "✅ Confusion matrix saved as 'tlsan_confusion_matrix.png'\n"
     ]
    }
   ],
   "source": [
    "plt.title(\"TLSAN Confusion Matrix\")\n",
    "plt.grid(False)\n",
    "plt.savefig(\"tlsan_confusion_matrix.png\", bbox_inches='tight')\n",
    "plt.close()\n",
    "\n",
    "print(\"✅ Confusion matrix saved as 'tlsan_confusion_matrix.png'\")\n"
   ]
  },
  {
   "cell_type": "code",
   "execution_count": null,
   "metadata": {
    "execution": {
     "execution_failed": "2025-04-21T15:09:51.266Z",
     "iopub.execute_input": "2025-04-21T15:09:45.527665Z",
     "iopub.status.busy": "2025-04-21T15:09:45.526466Z"
    },
    "trusted": true
   },
   "outputs": [],
   "source": [
    "import torch\n",
    "import numpy as np\n",
    "\n",
    "def precision_at_k(model, dataloader, k, device):\n",
    "    model.eval()\n",
    "    precision_list = []\n",
    "\n",
    "    with torch.no_grad():\n",
    "        for sequences, pos_items, neg_items in dataloader:\n",
    "            sequences = sequences.to(device)\n",
    "            pos_items = pos_items.to(device)\n",
    "            neg_items = neg_items.to(device)\n",
    "\n",
    "            # Get model scores for all items (positive items only for this example)\n",
    "            all_items = torch.arange(0, model.item_embedding.num_embeddings, device=device)  # All possible items\n",
    "            all_items = all_items.unsqueeze(0).expand(sequences.size(0), -1)  # Expand for batch size\n",
    "\n",
    "            # Get embeddings for all items and for sequences\n",
    "            seq_emb = model.item_embedding(sequences)  # (batch_size, seq_len, embed_dim)\n",
    "            cand_emb = model.item_embedding(all_items)  # (batch_size, num_items, embed_dim)\n",
    "\n",
    "            # Now calculate the scores (dot product) between the sequence and candidate items\n",
    "            scores = (seq_emb.mean(dim=1) @ cand_emb.transpose(1, 2))  # (batch_size, num_items)\n",
    "\n",
    "            # Get top-k predicted items\n",
    "            _, top_k_indices = torch.topk(scores, k=k, dim=1, largest=True)\n",
    "\n",
    "            # Check how many of the top-k predicted items are relevant\n",
    "            relevant_items = torch.isin(top_k_indices, pos_items.unsqueeze(1))  # Check if items in top-k are relevant\n",
    "            precision = relevant_items.sum().item() / k  # Precision is the number of relevant items divided by k\n",
    "            precision_list.append(precision)\n",
    "\n",
    "    avg_precision = np.mean(precision_list)\n",
    "    return avg_precision\n",
    "\n",
    "def recall_at_k(model, dataloader, k, device):\n",
    "    model.eval()\n",
    "    recall_list = []\n",
    "\n",
    "    with torch.no_grad():\n",
    "        for sequences, pos_items, neg_items in dataloader:\n",
    "            sequences = sequences.to(device)\n",
    "            pos_items = pos_items.to(device)\n",
    "            neg_items = neg_items.to(device)\n",
    "\n",
    "            # Get model scores for all items (positive items only for this example)\n",
    "            all_items = torch.arange(0, model.item_embedding.num_embeddings, device=device)  # All possible items\n",
    "            all_items = all_items.unsqueeze(0).expand(sequences.size(0), -1)  # Expand for batch size\n",
    "\n",
    "            # Get embeddings for all items and for sequences\n",
    "            seq_emb = model.item_embedding(sequences)  # (batch_size, seq_len, embed_dim)\n",
    "            cand_emb = model.item_embedding(all_items)  # (batch_size, num_items, embed_dim)\n",
    "\n",
    "            # Now calculate the scores (dot product) between the sequence and candidate items\n",
    "            scores = (seq_emb.mean(dim=1) @ cand_emb.transpose(1, 2))  # (batch_size, num_items)\n",
    "\n",
    "            # Get top-k predicted items\n",
    "            _, top_k_indices = torch.topk(scores, k=k, dim=1, largest=True)\n",
    "\n",
    "            # Check how many of the actual positive items are in the top-k\n",
    "            relevant_items = torch.isin(top_k_indices, pos_items.unsqueeze(1))  # Check if items in top-k are relevant\n",
    "            recall = relevant_items.sum().item() / len(pos_items)  # Recall is relevant items divided by total positive items\n",
    "            recall_list.append(recall)\n",
    "\n",
    "    avg_recall = np.mean(recall_list)\n",
    "    return avg_recall\n",
    "\n",
    "# Example: Compute Precision@5 and Recall@5\n",
    "k = 5\n",
    "precision_k = precision_at_k(model, dataloader, k, device)\n",
    "recall_k = recall_at_k(model, dataloader, k, device)\n",
    "\n",
    "print(f\"📏 Precision@{k}: {precision_k:.4f}\")\n",
    "print(f\"📏 Recall@{k}: {recall_k:.4f}\")\n"
   ]
  },
  {
   "cell_type": "code",
   "execution_count": 1,
   "metadata": {
    "execution": {
     "iopub.execute_input": "2025-04-21T16:27:27.055756Z",
     "iopub.status.busy": "2025-04-21T16:27:27.055107Z",
     "iopub.status.idle": "2025-04-21T16:27:28.684059Z",
     "shell.execute_reply": "2025-04-21T16:27:28.683094Z",
     "shell.execute_reply.started": "2025-04-21T16:27:27.055689Z"
    },
    "trusted": true
   },
   "outputs": [
    {
     "data": {
      "image/png": "[encoded data removed]",
      "text/plain": [
       "<Figure size 800x600 with 1 Axes>"
      ]
     },
     "metadata": {},
     "output_type": "display_data"
    }
   ],
   "source": [
    "import numpy as np\n",
    "import matplotlib.pyplot as plt\n",
    "import seaborn as sns\n",
    "\n",
    "# Step 1: Manually define your confusion matrix\n",
    "cm = np.array([[556, 2],\n",
    "               [47, 511]])\n",
    "\n",
    "# Step 2: Plot the confusion matrix\n",
    "plt.figure(figsize=(8, 6))\n",
    "sns.heatmap(cm, annot=True, fmt='d', cmap='Blues', cbar=False,\n",
    "            xticklabels=['Negative', 'Positive'],\n",
    "            yticklabels=['Negative', 'Positive'])\n",
    "\n",
    "# Step 3: Axis labels and title\n",
    "plt.xlabel('Predicted Label')\n",
    "plt.ylabel('True Label')\n",
    "plt.title('Confusion Matrix')\n",
    "plt.tight_layout()\n",
    "\n",
    "# Step 4: Save the figure to file\n",
    "plt.savefig(\"/kaggle/working/confusion_matrix.png\")\n",
    "\n",
    "# Step 5: Show the plot\n",
    "plt.show()\n"
   ]
  },
  {
   "cell_type": "code",
   "execution_count": null,
   "metadata": {
    "trusted": true
   },
   "outputs": [],
   "source": []
  }
 ],
 "metadata": {
  "kaggle": {
   "accelerator": "none",
   "dataSources": [
    {
     "datasetId": 7010049,
     "sourceId": 11224181,
     "sourceType": "datasetVersion"
    }
   ],
   "dockerImageVersionId": 31012,
   "isGpuEnabled": false,
   "isInternetEnabled": false,
   "language": "python",
   "sourceType": "notebook"
  },
  "kernelspec": {
   "display_name": "Python 3",
   "language": "python",
   "name": "python3"
  },
  "language_info": {
   "codemirror_mode": {
    "name": "ipython",
    "version": 3
   },
   "file_extension": ".py",
   "mimetype": "text/x-python",
   "name": "python",
   "nbconvert_exporter": "python",
   "pygments_lexer": "ipython3",
   "version": "3.11.11"
  }
 },
 "nbformat": 4,
 "nbformat_minor": 4
}
